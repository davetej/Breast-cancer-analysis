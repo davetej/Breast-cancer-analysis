{
 "cells": [
  {
   "cell_type": "markdown",
   "id": "86d3af75",
   "metadata": {},
   "source": [
    "### Name: Tej Dave\n",
    "### Student ID: 128280211"
   ]
  },
  {
   "cell_type": "markdown",
   "id": "985c9f8a",
   "metadata": {},
   "source": [
    "### Breast Cancer Analysis"
   ]
  },
  {
   "cell_type": "code",
   "execution_count": 1366,
   "id": "cd0522b7",
   "metadata": {},
   "outputs": [],
   "source": [
    "import pandas as pd\n",
    "import pylab as pl\n",
    "import numpy as np\n",
    "import scipy.optimize as opt\n",
    "from sklearn import preprocessing\n",
    "%matplotlib inline \n",
    "import matplotlib.pyplot as plt"
   ]
  },
  {
   "cell_type": "markdown",
   "id": "4e8501f2",
   "metadata": {},
   "source": [
    "### Step 1: Reading Dataset"
   ]
  },
  {
   "cell_type": "code",
   "execution_count": 1367,
   "id": "ffb6c48a",
   "metadata": {},
   "outputs": [
    {
     "data": {
      "text/html": [
       "<div>\n",
       "<style scoped>\n",
       "    .dataframe tbody tr th:only-of-type {\n",
       "        vertical-align: middle;\n",
       "    }\n",
       "\n",
       "    .dataframe tbody tr th {\n",
       "        vertical-align: top;\n",
       "    }\n",
       "\n",
       "    .dataframe thead th {\n",
       "        text-align: right;\n",
       "    }\n",
       "</style>\n",
       "<table border=\"1\" class=\"dataframe\">\n",
       "  <thead>\n",
       "    <tr style=\"text-align: right;\">\n",
       "      <th></th>\n",
       "      <th>class</th>\n",
       "      <th>age</th>\n",
       "      <th>menopause</th>\n",
       "      <th>tumor-size</th>\n",
       "      <th>inv-nodes</th>\n",
       "      <th>node-caps</th>\n",
       "      <th>deg-malig</th>\n",
       "      <th>breast</th>\n",
       "      <th>breast-quad</th>\n",
       "      <th>irradiat</th>\n",
       "    </tr>\n",
       "  </thead>\n",
       "  <tbody>\n",
       "    <tr>\n",
       "      <th>0</th>\n",
       "      <td>no-recurrence-events</td>\n",
       "      <td>30-39</td>\n",
       "      <td>premeno</td>\n",
       "      <td>30-34</td>\n",
       "      <td>0-2</td>\n",
       "      <td>no</td>\n",
       "      <td>3</td>\n",
       "      <td>left</td>\n",
       "      <td>left_low</td>\n",
       "      <td>no</td>\n",
       "    </tr>\n",
       "    <tr>\n",
       "      <th>1</th>\n",
       "      <td>no-recurrence-events</td>\n",
       "      <td>40-49</td>\n",
       "      <td>premeno</td>\n",
       "      <td>20-24</td>\n",
       "      <td>0-2</td>\n",
       "      <td>no</td>\n",
       "      <td>2</td>\n",
       "      <td>right</td>\n",
       "      <td>right_up</td>\n",
       "      <td>no</td>\n",
       "    </tr>\n",
       "    <tr>\n",
       "      <th>2</th>\n",
       "      <td>no-recurrence-events</td>\n",
       "      <td>40-49</td>\n",
       "      <td>premeno</td>\n",
       "      <td>20-24</td>\n",
       "      <td>0-2</td>\n",
       "      <td>no</td>\n",
       "      <td>2</td>\n",
       "      <td>left</td>\n",
       "      <td>left_low</td>\n",
       "      <td>no</td>\n",
       "    </tr>\n",
       "    <tr>\n",
       "      <th>3</th>\n",
       "      <td>no-recurrence-events</td>\n",
       "      <td>60-69</td>\n",
       "      <td>ge40</td>\n",
       "      <td>15-19</td>\n",
       "      <td>0-2</td>\n",
       "      <td>no</td>\n",
       "      <td>2</td>\n",
       "      <td>right</td>\n",
       "      <td>left_up</td>\n",
       "      <td>no</td>\n",
       "    </tr>\n",
       "    <tr>\n",
       "      <th>4</th>\n",
       "      <td>no-recurrence-events</td>\n",
       "      <td>40-49</td>\n",
       "      <td>premeno</td>\n",
       "      <td>0-4</td>\n",
       "      <td>0-2</td>\n",
       "      <td>no</td>\n",
       "      <td>2</td>\n",
       "      <td>right</td>\n",
       "      <td>right_low</td>\n",
       "      <td>no</td>\n",
       "    </tr>\n",
       "  </tbody>\n",
       "</table>\n",
       "</div>"
      ],
      "text/plain": [
       "                  class    age menopause tumor-size inv-nodes node-caps  \\\n",
       "0  no-recurrence-events  30-39   premeno      30-34       0-2        no   \n",
       "1  no-recurrence-events  40-49   premeno      20-24       0-2        no   \n",
       "2  no-recurrence-events  40-49   premeno      20-24       0-2        no   \n",
       "3  no-recurrence-events  60-69      ge40      15-19       0-2        no   \n",
       "4  no-recurrence-events  40-49   premeno        0-4       0-2        no   \n",
       "\n",
       "   deg-malig breast breast-quad irradiat  \n",
       "0          3   left    left_low       no  \n",
       "1          2  right    right_up       no  \n",
       "2          2   left    left_low       no  \n",
       "3          2  right     left_up       no  \n",
       "4          2  right   right_low       no  "
      ]
     },
     "execution_count": 1367,
     "metadata": {},
     "output_type": "execute_result"
    }
   ],
   "source": [
    "df = pd.read_csv('breast-cancer.csv')\n",
    "df.columns= df.columns.str.lower()\n",
    "df.head()"
   ]
  },
  {
   "cell_type": "markdown",
   "id": "57684c8a",
   "metadata": {},
   "source": [
    "### Data Cleaning and Standardization"
   ]
  },
  {
   "cell_type": "code",
   "execution_count": 1368,
   "id": "225aaca0",
   "metadata": {
    "scrolled": true
   },
   "outputs": [
    {
     "name": "stdout",
     "output_type": "stream",
     "text": [
      "<class 'pandas.core.frame.DataFrame'>\n",
      "RangeIndex: 286 entries, 0 to 285\n",
      "Data columns (total 10 columns):\n",
      " #   Column       Non-Null Count  Dtype \n",
      "---  ------       --------------  ----- \n",
      " 0   class        286 non-null    object\n",
      " 1   age          286 non-null    object\n",
      " 2   menopause    286 non-null    object\n",
      " 3   tumor-size   286 non-null    object\n",
      " 4   inv-nodes    286 non-null    object\n",
      " 5   node-caps    286 non-null    object\n",
      " 6   deg-malig    286 non-null    int64 \n",
      " 7   breast       286 non-null    object\n",
      " 8   breast-quad  286 non-null    object\n",
      " 9   irradiat     286 non-null    object\n",
      "dtypes: int64(1), object(9)\n",
      "memory usage: 22.5+ KB\n"
     ]
    }
   ],
   "source": [
    "df.info()"
   ]
  },
  {
   "cell_type": "code",
   "execution_count": 1369,
   "id": "69947e8a",
   "metadata": {
    "scrolled": true
   },
   "outputs": [
    {
     "data": {
      "text/plain": [
       "(286, 10)"
      ]
     },
     "execution_count": 1369,
     "metadata": {},
     "output_type": "execute_result"
    }
   ],
   "source": [
    "df.shape"
   ]
  },
  {
   "cell_type": "markdown",
   "id": "60e8f46f",
   "metadata": {},
   "source": [
    "The Dataset have 286 Observations with 10 Features."
   ]
  },
  {
   "cell_type": "markdown",
   "id": "c2eae2cb",
   "metadata": {},
   "source": [
    "* Converting data types of categorical varible to Category from Object"
   ]
  },
  {
   "cell_type": "code",
   "execution_count": 1370,
   "id": "92d7dec6",
   "metadata": {},
   "outputs": [
    {
     "data": {
      "text/plain": [
       "no     222\n",
       "yes     56\n",
       "?        8\n",
       "Name: node-caps, dtype: int64"
      ]
     },
     "execution_count": 1370,
     "metadata": {},
     "output_type": "execute_result"
    }
   ],
   "source": [
    "df['node-caps'].value_counts()"
   ]
  },
  {
   "cell_type": "markdown",
   "id": "98ccb608",
   "metadata": {},
   "source": [
    "* We have 8 Missing values represnted by \"?\" we shall be dropping such observation and not replace it with any value as the data might become unaccurate."
   ]
  },
  {
   "cell_type": "code",
   "execution_count": 1371,
   "id": "cdc7ae06",
   "metadata": {},
   "outputs": [
    {
     "data": {
      "text/plain": [
       "left_low     110\n",
       "left_up       97\n",
       "right_up      33\n",
       "right_low     24\n",
       "central       21\n",
       "?              1\n",
       "Name: breast-quad, dtype: int64"
      ]
     },
     "execution_count": 1371,
     "metadata": {},
     "output_type": "execute_result"
    }
   ],
   "source": [
    "df[\"breast-quad\"].value_counts()"
   ]
  },
  {
   "cell_type": "code",
   "execution_count": 1372,
   "id": "780c637f",
   "metadata": {},
   "outputs": [],
   "source": [
    "df.drop(df.loc[df[\"node-caps\"] == \"?\", \"node-caps\"].index, axis=0,inplace=True)"
   ]
  },
  {
   "cell_type": "code",
   "execution_count": 1373,
   "id": "f91f6964",
   "metadata": {
    "scrolled": true
   },
   "outputs": [],
   "source": [
    "df.drop(df.loc[df[\"breast-quad\"] == \"?\", \"breast-quad\"].index, axis=0,inplace=True)"
   ]
  },
  {
   "cell_type": "code",
   "execution_count": 1374,
   "id": "7244b850",
   "metadata": {},
   "outputs": [],
   "source": [
    "df['class'] = df['class'].astype('category')\n",
    "df['menopause'] = df['menopause'].astype('category')\n",
    "df['deg-malig'] = df['deg-malig'].astype('category')\n",
    "df['node-caps'] = df['node-caps'].astype('category')\n",
    "df['breast'] = df['breast'].astype('category')\n",
    "df['breast-quad'] = df['breast-quad'].astype('category')\n",
    "df['irradiat'] = df['irradiat'].astype('category')"
   ]
  },
  {
   "cell_type": "code",
   "execution_count": 1375,
   "id": "8db38c59",
   "metadata": {},
   "outputs": [
    {
     "name": "stdout",
     "output_type": "stream",
     "text": [
      "<class 'pandas.core.frame.DataFrame'>\n",
      "Int64Index: 277 entries, 0 to 285\n",
      "Data columns (total 10 columns):\n",
      " #   Column       Non-Null Count  Dtype   \n",
      "---  ------       --------------  -----   \n",
      " 0   class        277 non-null    category\n",
      " 1   age          277 non-null    object  \n",
      " 2   menopause    277 non-null    category\n",
      " 3   tumor-size   277 non-null    object  \n",
      " 4   inv-nodes    277 non-null    object  \n",
      " 5   node-caps    277 non-null    category\n",
      " 6   deg-malig    277 non-null    category\n",
      " 7   breast       277 non-null    category\n",
      " 8   breast-quad  277 non-null    category\n",
      " 9   irradiat     277 non-null    category\n",
      "dtypes: category(7), object(3)\n",
      "memory usage: 11.5+ KB\n"
     ]
    }
   ],
   "source": [
    "df.info()"
   ]
  },
  {
   "cell_type": "markdown",
   "id": "25d0ef4b",
   "metadata": {},
   "source": [
    "After removing we areleft with 278 Observations."
   ]
  },
  {
   "cell_type": "markdown",
   "id": "caf66772",
   "metadata": {},
   "source": [
    "# Checking duplicate values"
   ]
  },
  {
   "cell_type": "code",
   "execution_count": 1376,
   "id": "748ef824",
   "metadata": {},
   "outputs": [],
   "source": [
    "df_duplicate = df[df.duplicated()]"
   ]
  },
  {
   "cell_type": "code",
   "execution_count": 1377,
   "id": "d9009cf7",
   "metadata": {},
   "outputs": [
    {
     "data": {
      "text/plain": [
       "class          14\n",
       "age            14\n",
       "menopause      14\n",
       "tumor-size     14\n",
       "inv-nodes      14\n",
       "node-caps      14\n",
       "deg-malig      14\n",
       "breast         14\n",
       "breast-quad    14\n",
       "irradiat       14\n",
       "dtype: int64"
      ]
     },
     "execution_count": 1377,
     "metadata": {},
     "output_type": "execute_result"
    }
   ],
   "source": [
    "df_duplicate.count()"
   ]
  },
  {
   "cell_type": "markdown",
   "id": "61f67786",
   "metadata": {},
   "source": [
    "* There are 14 duplicate observations observation . We will keep the first occurance of the duplicate observation and drop the next occuring one."
   ]
  },
  {
   "cell_type": "code",
   "execution_count": 1378,
   "id": "1362daa3",
   "metadata": {},
   "outputs": [],
   "source": [
    "df.drop_duplicates(subset=None, keep='first', inplace=True, ignore_index=False)"
   ]
  },
  {
   "cell_type": "code",
   "execution_count": 1379,
   "id": "17f42b94",
   "metadata": {
    "scrolled": false
   },
   "outputs": [
    {
     "name": "stdout",
     "output_type": "stream",
     "text": [
      "<class 'pandas.core.frame.DataFrame'>\n",
      "Int64Index: 263 entries, 0 to 285\n",
      "Data columns (total 10 columns):\n",
      " #   Column       Non-Null Count  Dtype   \n",
      "---  ------       --------------  -----   \n",
      " 0   class        263 non-null    category\n",
      " 1   age          263 non-null    object  \n",
      " 2   menopause    263 non-null    category\n",
      " 3   tumor-size   263 non-null    object  \n",
      " 4   inv-nodes    263 non-null    object  \n",
      " 5   node-caps    263 non-null    category\n",
      " 6   deg-malig    263 non-null    category\n",
      " 7   breast       263 non-null    category\n",
      " 8   breast-quad  263 non-null    category\n",
      " 9   irradiat     263 non-null    category\n",
      "dtypes: category(7), object(3)\n",
      "memory usage: 11.0+ KB\n"
     ]
    }
   ],
   "source": [
    "df.info()"
   ]
  },
  {
   "cell_type": "markdown",
   "id": "d0ee5b04",
   "metadata": {},
   "source": [
    "* After dropping the duplicate observation we are left with 264 Observation. "
   ]
  },
  {
   "cell_type": "code",
   "execution_count": 1380,
   "id": "b14aa082",
   "metadata": {},
   "outputs": [
    {
     "data": {
      "text/html": [
       "<div>\n",
       "<style scoped>\n",
       "    .dataframe tbody tr th:only-of-type {\n",
       "        vertical-align: middle;\n",
       "    }\n",
       "\n",
       "    .dataframe tbody tr th {\n",
       "        vertical-align: top;\n",
       "    }\n",
       "\n",
       "    .dataframe thead th {\n",
       "        text-align: right;\n",
       "    }\n",
       "</style>\n",
       "<table border=\"1\" class=\"dataframe\">\n",
       "  <thead>\n",
       "    <tr style=\"text-align: right;\">\n",
       "      <th></th>\n",
       "      <th>class</th>\n",
       "      <th>age</th>\n",
       "      <th>menopause</th>\n",
       "      <th>tumor-size</th>\n",
       "      <th>inv-nodes</th>\n",
       "      <th>node-caps</th>\n",
       "      <th>deg-malig</th>\n",
       "      <th>breast</th>\n",
       "      <th>breast-quad</th>\n",
       "      <th>irradiat</th>\n",
       "    </tr>\n",
       "  </thead>\n",
       "  <tbody>\n",
       "    <tr>\n",
       "      <th>0</th>\n",
       "      <td>no-recurrence-events</td>\n",
       "      <td>30-39</td>\n",
       "      <td>premeno</td>\n",
       "      <td>30-34</td>\n",
       "      <td>0-2</td>\n",
       "      <td>no</td>\n",
       "      <td>3</td>\n",
       "      <td>left</td>\n",
       "      <td>left_low</td>\n",
       "      <td>no</td>\n",
       "    </tr>\n",
       "    <tr>\n",
       "      <th>1</th>\n",
       "      <td>no-recurrence-events</td>\n",
       "      <td>40-49</td>\n",
       "      <td>premeno</td>\n",
       "      <td>20-24</td>\n",
       "      <td>0-2</td>\n",
       "      <td>no</td>\n",
       "      <td>2</td>\n",
       "      <td>right</td>\n",
       "      <td>right_up</td>\n",
       "      <td>no</td>\n",
       "    </tr>\n",
       "    <tr>\n",
       "      <th>2</th>\n",
       "      <td>no-recurrence-events</td>\n",
       "      <td>40-49</td>\n",
       "      <td>premeno</td>\n",
       "      <td>20-24</td>\n",
       "      <td>0-2</td>\n",
       "      <td>no</td>\n",
       "      <td>2</td>\n",
       "      <td>left</td>\n",
       "      <td>left_low</td>\n",
       "      <td>no</td>\n",
       "    </tr>\n",
       "    <tr>\n",
       "      <th>3</th>\n",
       "      <td>no-recurrence-events</td>\n",
       "      <td>60-69</td>\n",
       "      <td>ge40</td>\n",
       "      <td>15-19</td>\n",
       "      <td>0-2</td>\n",
       "      <td>no</td>\n",
       "      <td>2</td>\n",
       "      <td>right</td>\n",
       "      <td>left_up</td>\n",
       "      <td>no</td>\n",
       "    </tr>\n",
       "    <tr>\n",
       "      <th>4</th>\n",
       "      <td>no-recurrence-events</td>\n",
       "      <td>40-49</td>\n",
       "      <td>premeno</td>\n",
       "      <td>0-4</td>\n",
       "      <td>0-2</td>\n",
       "      <td>no</td>\n",
       "      <td>2</td>\n",
       "      <td>right</td>\n",
       "      <td>right_low</td>\n",
       "      <td>no</td>\n",
       "    </tr>\n",
       "    <tr>\n",
       "      <th>5</th>\n",
       "      <td>no-recurrence-events</td>\n",
       "      <td>60-69</td>\n",
       "      <td>ge40</td>\n",
       "      <td>15-19</td>\n",
       "      <td>0-2</td>\n",
       "      <td>no</td>\n",
       "      <td>2</td>\n",
       "      <td>left</td>\n",
       "      <td>left_low</td>\n",
       "      <td>no</td>\n",
       "    </tr>\n",
       "    <tr>\n",
       "      <th>6</th>\n",
       "      <td>no-recurrence-events</td>\n",
       "      <td>50-59</td>\n",
       "      <td>premeno</td>\n",
       "      <td>25-29</td>\n",
       "      <td>0-2</td>\n",
       "      <td>no</td>\n",
       "      <td>2</td>\n",
       "      <td>left</td>\n",
       "      <td>left_low</td>\n",
       "      <td>no</td>\n",
       "    </tr>\n",
       "    <tr>\n",
       "      <th>7</th>\n",
       "      <td>no-recurrence-events</td>\n",
       "      <td>60-69</td>\n",
       "      <td>ge40</td>\n",
       "      <td>20-24</td>\n",
       "      <td>0-2</td>\n",
       "      <td>no</td>\n",
       "      <td>1</td>\n",
       "      <td>left</td>\n",
       "      <td>left_low</td>\n",
       "      <td>no</td>\n",
       "    </tr>\n",
       "    <tr>\n",
       "      <th>8</th>\n",
       "      <td>no-recurrence-events</td>\n",
       "      <td>40-49</td>\n",
       "      <td>premeno</td>\n",
       "      <td>50-54</td>\n",
       "      <td>0-2</td>\n",
       "      <td>no</td>\n",
       "      <td>2</td>\n",
       "      <td>left</td>\n",
       "      <td>left_low</td>\n",
       "      <td>no</td>\n",
       "    </tr>\n",
       "    <tr>\n",
       "      <th>9</th>\n",
       "      <td>no-recurrence-events</td>\n",
       "      <td>40-49</td>\n",
       "      <td>premeno</td>\n",
       "      <td>20-24</td>\n",
       "      <td>0-2</td>\n",
       "      <td>no</td>\n",
       "      <td>2</td>\n",
       "      <td>right</td>\n",
       "      <td>left_up</td>\n",
       "      <td>no</td>\n",
       "    </tr>\n",
       "  </tbody>\n",
       "</table>\n",
       "</div>"
      ],
      "text/plain": [
       "                  class    age menopause tumor-size inv-nodes node-caps  \\\n",
       "0  no-recurrence-events  30-39   premeno      30-34       0-2        no   \n",
       "1  no-recurrence-events  40-49   premeno      20-24       0-2        no   \n",
       "2  no-recurrence-events  40-49   premeno      20-24       0-2        no   \n",
       "3  no-recurrence-events  60-69      ge40      15-19       0-2        no   \n",
       "4  no-recurrence-events  40-49   premeno        0-4       0-2        no   \n",
       "5  no-recurrence-events  60-69      ge40      15-19       0-2        no   \n",
       "6  no-recurrence-events  50-59   premeno      25-29       0-2        no   \n",
       "7  no-recurrence-events  60-69      ge40      20-24       0-2        no   \n",
       "8  no-recurrence-events  40-49   premeno      50-54       0-2        no   \n",
       "9  no-recurrence-events  40-49   premeno      20-24       0-2        no   \n",
       "\n",
       "  deg-malig breast breast-quad irradiat  \n",
       "0         3   left    left_low       no  \n",
       "1         2  right    right_up       no  \n",
       "2         2   left    left_low       no  \n",
       "3         2  right     left_up       no  \n",
       "4         2  right   right_low       no  \n",
       "5         2   left    left_low       no  \n",
       "6         2   left    left_low       no  \n",
       "7         1   left    left_low       no  \n",
       "8         2   left    left_low       no  \n",
       "9         2  right     left_up       no  "
      ]
     },
     "execution_count": 1380,
     "metadata": {},
     "output_type": "execute_result"
    }
   ],
   "source": [
    "df.head(10)"
   ]
  },
  {
   "cell_type": "code",
   "execution_count": 1381,
   "id": "cb44c796",
   "metadata": {},
   "outputs": [
    {
     "data": {
      "text/html": [
       "<div>\n",
       "<style scoped>\n",
       "    .dataframe tbody tr th:only-of-type {\n",
       "        vertical-align: middle;\n",
       "    }\n",
       "\n",
       "    .dataframe tbody tr th {\n",
       "        vertical-align: top;\n",
       "    }\n",
       "\n",
       "    .dataframe thead th {\n",
       "        text-align: right;\n",
       "    }\n",
       "</style>\n",
       "<table border=\"1\" class=\"dataframe\">\n",
       "  <thead>\n",
       "    <tr style=\"text-align: right;\">\n",
       "      <th></th>\n",
       "      <th>class</th>\n",
       "      <th>age</th>\n",
       "      <th>menopause</th>\n",
       "      <th>tumor-size</th>\n",
       "      <th>inv-nodes</th>\n",
       "      <th>node-caps</th>\n",
       "      <th>deg-malig</th>\n",
       "      <th>breast</th>\n",
       "      <th>breast-quad</th>\n",
       "      <th>irradiat</th>\n",
       "    </tr>\n",
       "  </thead>\n",
       "  <tbody>\n",
       "    <tr>\n",
       "      <th>275</th>\n",
       "      <td>recurrence-events</td>\n",
       "      <td>40-49</td>\n",
       "      <td>premeno</td>\n",
       "      <td>25-29</td>\n",
       "      <td>9-11</td>\n",
       "      <td>yes</td>\n",
       "      <td>3</td>\n",
       "      <td>right</td>\n",
       "      <td>left_up</td>\n",
       "      <td>no</td>\n",
       "    </tr>\n",
       "    <tr>\n",
       "      <th>276</th>\n",
       "      <td>recurrence-events</td>\n",
       "      <td>30-39</td>\n",
       "      <td>premeno</td>\n",
       "      <td>25-29</td>\n",
       "      <td>6-8</td>\n",
       "      <td>yes</td>\n",
       "      <td>3</td>\n",
       "      <td>left</td>\n",
       "      <td>right_low</td>\n",
       "      <td>yes</td>\n",
       "    </tr>\n",
       "    <tr>\n",
       "      <th>277</th>\n",
       "      <td>recurrence-events</td>\n",
       "      <td>60-69</td>\n",
       "      <td>ge40</td>\n",
       "      <td>10-14</td>\n",
       "      <td>6-8</td>\n",
       "      <td>yes</td>\n",
       "      <td>3</td>\n",
       "      <td>left</td>\n",
       "      <td>left_up</td>\n",
       "      <td>yes</td>\n",
       "    </tr>\n",
       "    <tr>\n",
       "      <th>278</th>\n",
       "      <td>recurrence-events</td>\n",
       "      <td>50-59</td>\n",
       "      <td>premeno</td>\n",
       "      <td>35-39</td>\n",
       "      <td>15-17</td>\n",
       "      <td>yes</td>\n",
       "      <td>3</td>\n",
       "      <td>right</td>\n",
       "      <td>right_up</td>\n",
       "      <td>no</td>\n",
       "    </tr>\n",
       "    <tr>\n",
       "      <th>279</th>\n",
       "      <td>recurrence-events</td>\n",
       "      <td>50-59</td>\n",
       "      <td>ge40</td>\n",
       "      <td>40-44</td>\n",
       "      <td>6-8</td>\n",
       "      <td>yes</td>\n",
       "      <td>3</td>\n",
       "      <td>left</td>\n",
       "      <td>left_low</td>\n",
       "      <td>yes</td>\n",
       "    </tr>\n",
       "    <tr>\n",
       "      <th>281</th>\n",
       "      <td>recurrence-events</td>\n",
       "      <td>30-39</td>\n",
       "      <td>premeno</td>\n",
       "      <td>30-34</td>\n",
       "      <td>0-2</td>\n",
       "      <td>no</td>\n",
       "      <td>2</td>\n",
       "      <td>left</td>\n",
       "      <td>left_up</td>\n",
       "      <td>no</td>\n",
       "    </tr>\n",
       "    <tr>\n",
       "      <th>282</th>\n",
       "      <td>recurrence-events</td>\n",
       "      <td>30-39</td>\n",
       "      <td>premeno</td>\n",
       "      <td>20-24</td>\n",
       "      <td>0-2</td>\n",
       "      <td>no</td>\n",
       "      <td>3</td>\n",
       "      <td>left</td>\n",
       "      <td>left_up</td>\n",
       "      <td>yes</td>\n",
       "    </tr>\n",
       "    <tr>\n",
       "      <th>283</th>\n",
       "      <td>recurrence-events</td>\n",
       "      <td>60-69</td>\n",
       "      <td>ge40</td>\n",
       "      <td>20-24</td>\n",
       "      <td>0-2</td>\n",
       "      <td>no</td>\n",
       "      <td>1</td>\n",
       "      <td>right</td>\n",
       "      <td>left_up</td>\n",
       "      <td>no</td>\n",
       "    </tr>\n",
       "    <tr>\n",
       "      <th>284</th>\n",
       "      <td>recurrence-events</td>\n",
       "      <td>40-49</td>\n",
       "      <td>ge40</td>\n",
       "      <td>30-34</td>\n",
       "      <td>3-5</td>\n",
       "      <td>no</td>\n",
       "      <td>3</td>\n",
       "      <td>left</td>\n",
       "      <td>left_low</td>\n",
       "      <td>no</td>\n",
       "    </tr>\n",
       "    <tr>\n",
       "      <th>285</th>\n",
       "      <td>recurrence-events</td>\n",
       "      <td>50-59</td>\n",
       "      <td>ge40</td>\n",
       "      <td>30-34</td>\n",
       "      <td>3-5</td>\n",
       "      <td>no</td>\n",
       "      <td>3</td>\n",
       "      <td>left</td>\n",
       "      <td>left_low</td>\n",
       "      <td>no</td>\n",
       "    </tr>\n",
       "  </tbody>\n",
       "</table>\n",
       "</div>"
      ],
      "text/plain": [
       "                 class    age menopause tumor-size inv-nodes node-caps  \\\n",
       "275  recurrence-events  40-49   premeno      25-29      9-11       yes   \n",
       "276  recurrence-events  30-39   premeno      25-29       6-8       yes   \n",
       "277  recurrence-events  60-69      ge40      10-14       6-8       yes   \n",
       "278  recurrence-events  50-59   premeno      35-39     15-17       yes   \n",
       "279  recurrence-events  50-59      ge40      40-44       6-8       yes   \n",
       "281  recurrence-events  30-39   premeno      30-34       0-2        no   \n",
       "282  recurrence-events  30-39   premeno      20-24       0-2        no   \n",
       "283  recurrence-events  60-69      ge40      20-24       0-2        no   \n",
       "284  recurrence-events  40-49      ge40      30-34       3-5        no   \n",
       "285  recurrence-events  50-59      ge40      30-34       3-5        no   \n",
       "\n",
       "    deg-malig breast breast-quad irradiat  \n",
       "275         3  right     left_up       no  \n",
       "276         3   left   right_low      yes  \n",
       "277         3   left     left_up      yes  \n",
       "278         3  right    right_up       no  \n",
       "279         3   left    left_low      yes  \n",
       "281         2   left     left_up       no  \n",
       "282         3   left     left_up      yes  \n",
       "283         1  right     left_up       no  \n",
       "284         3   left    left_low       no  \n",
       "285         3   left    left_low       no  "
      ]
     },
     "execution_count": 1381,
     "metadata": {},
     "output_type": "execute_result"
    }
   ],
   "source": [
    "df.tail(10)"
   ]
  },
  {
   "cell_type": "code",
   "execution_count": 1382,
   "id": "4e1e075f",
   "metadata": {
    "scrolled": true
   },
   "outputs": [
    {
     "data": {
      "text/plain": [
       "<AxesSubplot:>"
      ]
     },
     "execution_count": 1382,
     "metadata": {},
     "output_type": "execute_result"
    },
    {
     "data": {
      "image/png": "[encoded data removed]",
      "text/plain": [
       "<Figure size 432x288 with 1 Axes>"
      ]
     },
     "metadata": {
      "needs_background": "light"
     },
     "output_type": "display_data"
    }
   ],
   "source": [
    "df['class'].value_counts().plot(kind='bar')"
   ]
  },
  {
   "cell_type": "code",
   "execution_count": 1383,
   "id": "29f2d538",
   "metadata": {},
   "outputs": [
    {
     "data": {
      "text/plain": [
       "<AxesSubplot:>"
      ]
     },
     "execution_count": 1383,
     "metadata": {},
     "output_type": "execute_result"
    },
    {
     "data": {
      "image/png": "[encoded data removed]",
      "text/plain": [
       "<Figure size 432x288 with 1 Axes>"
      ]
     },
     "metadata": {
      "needs_background": "light"
     },
     "output_type": "display_data"
    }
   ],
   "source": [
    "df['age'].value_counts(sorted).plot(kind='bar')"
   ]
  },
  {
   "cell_type": "code",
   "execution_count": 1384,
   "id": "9d177c40",
   "metadata": {},
   "outputs": [
    {
     "data": {
      "text/plain": [
       "premeno    142\n",
       "ge40       116\n",
       "lt40         5\n",
       "Name: menopause, dtype: int64"
      ]
     },
     "execution_count": 1384,
     "metadata": {},
     "output_type": "execute_result"
    }
   ],
   "source": [
    "df['menopause'].value_counts()"
   ]
  },
  {
   "cell_type": "code",
   "execution_count": 1385,
   "id": "484d1e0b",
   "metadata": {
    "scrolled": true
   },
   "outputs": [
    {
     "data": {
      "text/plain": [
       "<AxesSubplot:>"
      ]
     },
     "execution_count": 1385,
     "metadata": {},
     "output_type": "execute_result"
    },
    {
     "data": {
      "image/png": "[encoded data removed]",
      "text/plain": [
       "<Figure size 432x288 with 1 Axes>"
      ]
     },
     "metadata": {
      "needs_background": "light"
     },
     "output_type": "display_data"
    }
   ],
   "source": [
    "df['tumor-size'].value_counts().plot(kind='bar',)"
   ]
  },
  {
   "cell_type": "code",
   "execution_count": null,
   "id": "04d807f5",
   "metadata": {},
   "outputs": [],
   "source": [
    "df['tumor-size'].value_counts().plot(kind='bar',)"
   ]
  },
  {
   "cell_type": "code",
   "execution_count": 1386,
   "id": "e4262800",
   "metadata": {},
   "outputs": [
    {
     "data": {
      "text/plain": [
       "<AxesSubplot:>"
      ]
     },
     "execution_count": 1386,
     "metadata": {},
     "output_type": "execute_result"
    },
    {
     "data": {
      "image/png": "[encoded data removed]",
      "text/plain": [
       "<Figure size 432x288 with 1 Axes>"
      ]
     },
     "metadata": {
      "needs_background": "light"
     },
     "output_type": "display_data"
    }
   ],
   "source": [
    "df['inv-nodes'].value_counts(sorted).plot(kind='bar')"
   ]
  },
  {
   "cell_type": "code",
   "execution_count": 1387,
   "id": "07653e00",
   "metadata": {},
   "outputs": [
    {
     "data": {
      "text/plain": [
       "2    123\n",
       "3     79\n",
       "1     61\n",
       "Name: deg-malig, dtype: int64"
      ]
     },
     "execution_count": 1387,
     "metadata": {},
     "output_type": "execute_result"
    }
   ],
   "source": [
    "df['deg-malig'].value_counts()"
   ]
  },
  {
   "cell_type": "code",
   "execution_count": 1437,
   "id": "de79daac",
   "metadata": {
    "scrolled": true
   },
   "outputs": [
    {
     "data": {
      "text/plain": [
       "20-24    20\n",
       "30-34    20\n",
       "25-29    16\n",
       "10-14     7\n",
       "35-39     7\n",
       "15-19     5\n",
       "40-44     5\n",
       "0-4       2\n",
       "50-54     2\n",
       "5-9       1\n",
       "45-49     1\n",
       "Name: tumor-size, dtype: int64"
      ]
     },
     "execution_count": 1437,
     "metadata": {},
     "output_type": "execute_result"
    }
   ],
   "source": [
    "df.loc[df[\"age\"] == \"40-49\", \"tumor-size\"].value_counts()"
   ]
  },
  {
   "cell_type": "code",
   "execution_count": 1438,
   "id": "63fe1fa5",
   "metadata": {},
   "outputs": [
    {
     "data": {
      "text/plain": [
       "25-29    19\n",
       "30-34    17\n",
       "20-24    11\n",
       "15-19     9\n",
       "10-14     9\n",
       "40-44     7\n",
       "35-39     7\n",
       "0-4       3\n",
       "50-54     3\n",
       "5-9       1\n",
       "Name: tumor-size, dtype: int64"
      ]
     },
     "execution_count": 1438,
     "metadata": {},
     "output_type": "execute_result"
    }
   ],
   "source": [
    "df.loc[df[\"age\"] == \"50-59\", \"tumor-size\"].value_counts()"
   ]
  },
  {
   "cell_type": "code",
   "execution_count": 1388,
   "id": "5a8afe4c",
   "metadata": {},
   "outputs": [
    {
     "data": {
      "text/plain": [
       "left     136\n",
       "right    127\n",
       "Name: breast, dtype: int64"
      ]
     },
     "execution_count": 1388,
     "metadata": {},
     "output_type": "execute_result"
    }
   ],
   "source": [
    "df['breast'].value_counts()"
   ]
  },
  {
   "cell_type": "code",
   "execution_count": 1389,
   "id": "6c6c3974",
   "metadata": {
    "scrolled": false
   },
   "outputs": [
    {
     "data": {
      "text/plain": [
       "left_low     99\n",
       "left_up      89\n",
       "right_up     32\n",
       "right_low    23\n",
       "central      20\n",
       "Name: breast-quad, dtype: int64"
      ]
     },
     "execution_count": 1389,
     "metadata": {},
     "output_type": "execute_result"
    }
   ],
   "source": [
    "df['breast-quad'].value_counts()"
   ]
  },
  {
   "cell_type": "code",
   "execution_count": 1390,
   "id": "d97ee295",
   "metadata": {},
   "outputs": [],
   "source": [
    "df.drop(df.loc[df[\"breast-quad\"] == \"?\", \"breast-quad\"].index, axis=0,inplace=True)"
   ]
  },
  {
   "cell_type": "code",
   "execution_count": 1391,
   "id": "ed12b13c",
   "metadata": {
    "scrolled": true
   },
   "outputs": [
    {
     "data": {
      "text/plain": [
       "no     202\n",
       "yes     61\n",
       "Name: irradiat, dtype: int64"
      ]
     },
     "execution_count": 1391,
     "metadata": {},
     "output_type": "execute_result"
    }
   ],
   "source": [
    "df['irradiat'].value_counts()"
   ]
  },
  {
   "cell_type": "code",
   "execution_count": 1392,
   "id": "4a5a9baf",
   "metadata": {},
   "outputs": [
    {
     "name": "stdout",
     "output_type": "stream",
     "text": [
      "<class 'pandas.core.frame.DataFrame'>\n",
      "Int64Index: 263 entries, 0 to 285\n",
      "Data columns (total 10 columns):\n",
      " #   Column       Non-Null Count  Dtype   \n",
      "---  ------       --------------  -----   \n",
      " 0   class        263 non-null    category\n",
      " 1   age          263 non-null    object  \n",
      " 2   menopause    263 non-null    category\n",
      " 3   tumor-size   263 non-null    object  \n",
      " 4   inv-nodes    263 non-null    object  \n",
      " 5   node-caps    263 non-null    category\n",
      " 6   deg-malig    263 non-null    category\n",
      " 7   breast       263 non-null    category\n",
      " 8   breast-quad  263 non-null    category\n",
      " 9   irradiat     263 non-null    category\n",
      "dtypes: category(7), object(3)\n",
      "memory usage: 11.0+ KB\n"
     ]
    }
   ],
   "source": [
    "df.info()"
   ]
  },
  {
   "cell_type": "markdown",
   "id": "4a7fd49b",
   "metadata": {},
   "source": [
    "### Chi-Square Test"
   ]
  },
  {
   "cell_type": "markdown",
   "id": "891431b1",
   "metadata": {},
   "source": [
    "#### Hyphothesis Analysis\n",
    "\n",
    "H0: The variables are not correlated with each other. "
   ]
  },
  {
   "cell_type": "code",
   "execution_count": 1440,
   "id": "74568503",
   "metadata": {},
   "outputs": [
    {
     "name": "stdout",
     "output_type": "stream",
     "text": [
      "irradiat               no  yes\n",
      "class                         \n",
      "no-recurrence-events  154   32\n",
      "recurrence-events      48   29\n",
      "breast                left  right\n",
      "class                            \n",
      "no-recurrence-events    94     92\n",
      "recurrence-events       42     35\n",
      "tumor-size            0-4  10-14  15-19  20-24  25-29  30-34  35-39  40-44  \\\n",
      "class                                                                        \n",
      "no-recurrence-events    7     25     19     31     32     33     12     16   \n",
      "recurrence-events       1      1      6     14     16     24      6      5   \n",
      "\n",
      "tumor-size            45-49  5-9  50-54  \n",
      "class                                    \n",
      "no-recurrence-events      2    4      5  \n",
      "recurrence-events         1    0      3  \n",
      "deg-malig   1   2   3\n",
      "breast               \n",
      "left       31  61  44\n",
      "right      30  62  35\n",
      "breast-quad  central  left_low  left_up  right_low  right_up\n",
      "breast                                                      \n",
      "left              11        69       32         16         8\n",
      "right              9        30       57          7        24\n",
      "node-caps   no  yes\n",
      "breast             \n",
      "left       107   29\n",
      "right      101   26\n",
      "The P-Value of the ChiSqResult_class_irradiat Test is: 0.0006346956730777489\n",
      "The P-Value of the ChiSqResult_class_breast Test is: 0.648198791155018\n",
      "The P-Value of the ChiSqResult_class_tumorSize Test is: 0.07623227729746207\n",
      "The P-Value of the ChiSqResult_breast_tumorSize Test is: 0.6897938621853272\n",
      "The P-Value of the ChiSqResult_breast_quad Test is: 8.038590417634932e-07\n"
     ]
    }
   ],
   "source": [
    "from scipy.stats import chi2_contingency\n",
    "\n",
    "# Cross tabulation \n",
    "Crosstab_class_irradiat=pd.crosstab(index=df['class'],columns=df['irradiat'])\n",
    "print(Crosstab_class_irradiat)\n",
    "\n",
    "Crosstab_class_breast=pd.crosstab(index=df['class'],columns=df['breast'])\n",
    "print(Crosstab_class_breast)\n",
    "\n",
    "Crosstab_class_tumorSize=pd.crosstab(index=df['class'],columns=df['tumor-size'])\n",
    "print(Crosstab_class_tumorSize)\n",
    "\n",
    "\n",
    "\n",
    "Crosstab_breast_tumorSize=pd.crosstab(index=df['breast'],columns=df['deg-malig'])\n",
    "print(Crosstab_breast_tumorSize)\n",
    "\n",
    "\n",
    "Crosstab_breast_quad=pd.crosstab(index=df['breast'],columns=df['breast-quad'])\n",
    "print(Crosstab_breast_quad)\n",
    "\n",
    "Crosstab_breast_nodeCap=pd.crosstab(index=df['breast'],columns=df['node-caps'])\n",
    "print(Crosstab_breast_nodeCap)\n",
    "\n",
    "\n",
    "# Performing Chi-sq test\n",
    "ChiSqResult_class_irradiat = chi2_contingency(Crosstab_class_irradiat)\n",
    "\n",
    "ChiSqResult_class_breast = chi2_contingency(Crosstab_class_breast)\n",
    "\n",
    "ChiSqResult_class_tumorSize = chi2_contingency(Crosstab_class_tumorSize)\n",
    "\n",
    "ChiSqResult_breast_tumorSize = chi2_contingency(Crosstab_breast_tumorSize)\n",
    "\n",
    "Crosstab_breast_nodeCap = chi2_contingency(Crosstab_breast_nodeCap)\n",
    " \n",
    "    \n",
    "    \n",
    "# P-Value is the Probability of H0 being True\n",
    "# If P-Value&gt;0.05 then only we Accept the assumption(H0)\n",
    " \n",
    "print('The P-Value of the ChiSqResult_class_irradiat Test is:', ChiSqResult_class_irradiat[1])\n",
    "\n",
    "print('The P-Value of the ChiSqResult_class_breast Test is:', ChiSqResult_class_breast[1])\n",
    "\n",
    "print('The P-Value of the ChiSqResult_class_tumorSize Test is:', ChiSqResult_class_tumorSize[1])\n",
    "\n",
    "print('The P-Value of the ChiSqResult_breast_tumorSize Test is:', ChiSqResult_breast_tumorSize[1])\n",
    "\n",
    "print('The P-Value of the ChiSqResult_breast_quad Test is:', ChiSqResult_breast_quad[1])"
   ]
  },
  {
   "cell_type": "markdown",
   "id": "721831f5",
   "metadata": {},
   "source": [
    "#### Conclusion,\n",
    "\n",
    "For Class and irradiat:\n",
    "    We failed to reject H0, the varible are not related to each other\n",
    "\n",
    "For Class and breast:\n",
    "    We reject H0, the varible are related to each other\n",
    "\n",
    "For Class and tumorsize:\n",
    "    We failed to reject H0, the varible are not related to each other\n",
    "    \n",
    "For Breast and tumorsize:\n",
    "    We reject H0, the varible are related to each other\n",
    "    \n",
    "For Breast and Breast Quad:\n",
    "    We reject H0, the varible are related to each other"
   ]
  },
  {
   "cell_type": "code",
   "execution_count": 1394,
   "id": "6f5ea43e",
   "metadata": {},
   "outputs": [
    {
     "name": "stdout",
     "output_type": "stream",
     "text": [
      "<class 'pandas.core.frame.DataFrame'>\n",
      "Int64Index: 263 entries, 0 to 285\n",
      "Data columns (total 10 columns):\n",
      " #   Column       Non-Null Count  Dtype   \n",
      "---  ------       --------------  -----   \n",
      " 0   class        263 non-null    category\n",
      " 1   age          263 non-null    object  \n",
      " 2   menopause    263 non-null    category\n",
      " 3   tumor-size   263 non-null    object  \n",
      " 4   inv-nodes    263 non-null    object  \n",
      " 5   node-caps    263 non-null    category\n",
      " 6   deg-malig    263 non-null    category\n",
      " 7   breast       263 non-null    category\n",
      " 8   breast-quad  263 non-null    category\n",
      " 9   irradiat     263 non-null    category\n",
      "dtypes: category(7), object(3)\n",
      "memory usage: 11.0+ KB\n"
     ]
    }
   ],
   "source": [
    "df.info()"
   ]
  },
  {
   "cell_type": "code",
   "execution_count": 1441,
   "id": "74c4941f",
   "metadata": {
    "scrolled": true
   },
   "outputs": [
    {
     "data": {
      "text/plain": [
       "<AxesSubplot:xlabel='class'>"
      ]
     },
     "execution_count": 1441,
     "metadata": {},
     "output_type": "execute_result"
    },
    {
     "data": {
      "image/png": "[encoded data removed]",
      "text/plain": [
       "<Figure size 432x288 with 1 Axes>"
      ]
     },
     "metadata": {
      "needs_background": "light"
     },
     "output_type": "display_data"
    }
   ],
   "source": [
    "%matplotlib inline\n",
    "pd.crosstab(df['class'],df['age']).plot(kind='bar')"
   ]
  },
  {
   "cell_type": "code",
   "execution_count": 1396,
   "id": "ad7f4715",
   "metadata": {},
   "outputs": [
    {
     "data": {
      "text/html": [
       "<div>\n",
       "<style scoped>\n",
       "    .dataframe tbody tr th:only-of-type {\n",
       "        vertical-align: middle;\n",
       "    }\n",
       "\n",
       "    .dataframe tbody tr th {\n",
       "        vertical-align: top;\n",
       "    }\n",
       "\n",
       "    .dataframe thead th {\n",
       "        text-align: right;\n",
       "    }\n",
       "</style>\n",
       "<table border=\"1\" class=\"dataframe\">\n",
       "  <thead>\n",
       "    <tr style=\"text-align: right;\">\n",
       "      <th></th>\n",
       "      <th>class</th>\n",
       "      <th>age</th>\n",
       "      <th>menopause</th>\n",
       "      <th>tumor-size</th>\n",
       "      <th>inv-nodes</th>\n",
       "      <th>node-caps</th>\n",
       "      <th>deg-malig</th>\n",
       "      <th>breast</th>\n",
       "      <th>breast-quad</th>\n",
       "      <th>irradiat</th>\n",
       "    </tr>\n",
       "  </thead>\n",
       "  <tbody>\n",
       "    <tr>\n",
       "      <th>0</th>\n",
       "      <td>no-recurrence-events</td>\n",
       "      <td>30-39</td>\n",
       "      <td>premeno</td>\n",
       "      <td>30-34</td>\n",
       "      <td>0-2</td>\n",
       "      <td>no</td>\n",
       "      <td>3</td>\n",
       "      <td>left</td>\n",
       "      <td>left_low</td>\n",
       "      <td>no</td>\n",
       "    </tr>\n",
       "    <tr>\n",
       "      <th>1</th>\n",
       "      <td>no-recurrence-events</td>\n",
       "      <td>40-49</td>\n",
       "      <td>premeno</td>\n",
       "      <td>20-24</td>\n",
       "      <td>0-2</td>\n",
       "      <td>no</td>\n",
       "      <td>2</td>\n",
       "      <td>right</td>\n",
       "      <td>right_up</td>\n",
       "      <td>no</td>\n",
       "    </tr>\n",
       "    <tr>\n",
       "      <th>2</th>\n",
       "      <td>no-recurrence-events</td>\n",
       "      <td>40-49</td>\n",
       "      <td>premeno</td>\n",
       "      <td>20-24</td>\n",
       "      <td>0-2</td>\n",
       "      <td>no</td>\n",
       "      <td>2</td>\n",
       "      <td>left</td>\n",
       "      <td>left_low</td>\n",
       "      <td>no</td>\n",
       "    </tr>\n",
       "    <tr>\n",
       "      <th>3</th>\n",
       "      <td>no-recurrence-events</td>\n",
       "      <td>60-69</td>\n",
       "      <td>ge40</td>\n",
       "      <td>15-19</td>\n",
       "      <td>0-2</td>\n",
       "      <td>no</td>\n",
       "      <td>2</td>\n",
       "      <td>right</td>\n",
       "      <td>left_up</td>\n",
       "      <td>no</td>\n",
       "    </tr>\n",
       "    <tr>\n",
       "      <th>4</th>\n",
       "      <td>no-recurrence-events</td>\n",
       "      <td>40-49</td>\n",
       "      <td>premeno</td>\n",
       "      <td>0-4</td>\n",
       "      <td>0-2</td>\n",
       "      <td>no</td>\n",
       "      <td>2</td>\n",
       "      <td>right</td>\n",
       "      <td>right_low</td>\n",
       "      <td>no</td>\n",
       "    </tr>\n",
       "  </tbody>\n",
       "</table>\n",
       "</div>"
      ],
      "text/plain": [
       "                  class    age menopause tumor-size inv-nodes node-caps  \\\n",
       "0  no-recurrence-events  30-39   premeno      30-34       0-2        no   \n",
       "1  no-recurrence-events  40-49   premeno      20-24       0-2        no   \n",
       "2  no-recurrence-events  40-49   premeno      20-24       0-2        no   \n",
       "3  no-recurrence-events  60-69      ge40      15-19       0-2        no   \n",
       "4  no-recurrence-events  40-49   premeno        0-4       0-2        no   \n",
       "\n",
       "  deg-malig breast breast-quad irradiat  \n",
       "0         3   left    left_low       no  \n",
       "1         2  right    right_up       no  \n",
       "2         2   left    left_low       no  \n",
       "3         2  right     left_up       no  \n",
       "4         2  right   right_low       no  "
      ]
     },
     "execution_count": 1396,
     "metadata": {},
     "output_type": "execute_result"
    }
   ],
   "source": [
    "df.head()"
   ]
  },
  {
   "cell_type": "code",
   "execution_count": 1397,
   "id": "de74b8c4",
   "metadata": {
    "scrolled": true
   },
   "outputs": [
    {
     "name": "stdout",
     "output_type": "stream",
     "text": [
      "<class 'pandas.core.frame.DataFrame'>\n",
      "Int64Index: 263 entries, 0 to 285\n",
      "Data columns (total 10 columns):\n",
      " #   Column       Non-Null Count  Dtype   \n",
      "---  ------       --------------  -----   \n",
      " 0   class        263 non-null    category\n",
      " 1   age          263 non-null    object  \n",
      " 2   menopause    263 non-null    category\n",
      " 3   tumor-size   263 non-null    object  \n",
      " 4   inv-nodes    263 non-null    object  \n",
      " 5   node-caps    263 non-null    category\n",
      " 6   deg-malig    263 non-null    category\n",
      " 7   breast       263 non-null    category\n",
      " 8   breast-quad  263 non-null    category\n",
      " 9   irradiat     263 non-null    category\n",
      "dtypes: category(7), object(3)\n",
      "memory usage: 11.0+ KB\n"
     ]
    }
   ],
   "source": [
    "df.info()"
   ]
  },
  {
   "cell_type": "markdown",
   "id": "7f130082",
   "metadata": {},
   "source": [
    "### Pre-Processing Of Varibles"
   ]
  },
  {
   "cell_type": "code",
   "execution_count": 1398,
   "id": "07556c8d",
   "metadata": {},
   "outputs": [],
   "source": [
    "# X = df[['class', 'age', 'menopause', 'irradiat','deg-malig','breast-quad','node-caps','tumor-size']].values\n",
    "X = df[['class', 'age', 'menopause', 'irradiat','deg-malig','breast-quad','node-caps']].values"
   ]
  },
  {
   "cell_type": "code",
   "execution_count": 1442,
   "id": "d6d09759",
   "metadata": {
    "scrolled": true
   },
   "outputs": [
    {
     "data": {
      "text/plain": [
       "array([[-0.64, -1.62,  0.91, ...,  1.28, -0.73, -0.51],\n",
       "       [-0.64, -0.63,  0.91, ..., -0.09,  1.99, -0.51],\n",
       "       [-0.64, -0.63,  0.91, ..., -0.09, -0.73, -0.51],\n",
       "       ...,\n",
       "       [ 1.55,  1.35, -1.12, ..., -1.47,  0.18, -0.51],\n",
       "       [ 1.55, -0.63, -1.12, ...,  1.28, -0.73, -0.51],\n",
       "       [ 1.55,  0.36, -1.12, ...,  1.28, -0.73, -0.51]])"
      ]
     },
     "execution_count": 1442,
     "metadata": {},
     "output_type": "execute_result"
    }
   ],
   "source": [
    "X"
   ]
  },
  {
   "cell_type": "code",
   "execution_count": 1399,
   "id": "137340e4",
   "metadata": {
    "scrolled": true
   },
   "outputs": [
    {
     "data": {
      "text/plain": [
       "30-34    57\n",
       "25-29    48\n",
       "20-24    45\n",
       "10-14    26\n",
       "15-19    25\n",
       "40-44    21\n",
       "35-39    18\n",
       "0-4       8\n",
       "50-54     8\n",
       "5-9       4\n",
       "45-49     3\n",
       "Name: tumor-size, dtype: int64"
      ]
     },
     "execution_count": 1399,
     "metadata": {},
     "output_type": "execute_result"
    }
   ],
   "source": [
    "df['tumor-size'].value_counts()"
   ]
  },
  {
   "cell_type": "markdown",
   "id": "8c2f6dd4",
   "metadata": {},
   "source": [
    "#### Pre Processing Categorical Features"
   ]
  },
  {
   "cell_type": "markdown",
   "id": "585954a0",
   "metadata": {},
   "source": [
    "<ul>\n",
    "    <li> <b> X </b> as the <b> Feature Matrix </b></li>\n",
    "    <li> <b> y </b> as the <b> response vector </b> </li>\n",
    "</ul>\n"
   ]
  },
  {
   "cell_type": "code",
   "execution_count": 1400,
   "id": "c0f32d0c",
   "metadata": {},
   "outputs": [],
   "source": [
    "from sklearn import preprocessing"
   ]
  },
  {
   "cell_type": "code",
   "execution_count": 1401,
   "id": "af99065c",
   "metadata": {},
   "outputs": [],
   "source": [
    "le_class = preprocessing.LabelEncoder()\n",
    "le_class.fit(['no-recurrence-events','recurrence-events'])\n",
    "X[:,0] = le_class.transform(X[:,0]) "
   ]
  },
  {
   "cell_type": "code",
   "execution_count": 1443,
   "id": "da270e38",
   "metadata": {},
   "outputs": [
    {
     "data": {
      "text/plain": [
       "array([-0.64, -0.64, -0.64, -0.64, -0.64, -0.64, -0.64, -0.64, -0.64,\n",
       "       -0.64, -0.64, -0.64, -0.64, -0.64, -0.64, -0.64, -0.64, -0.64,\n",
       "       -0.64, -0.64, -0.64, -0.64, -0.64, -0.64, -0.64, -0.64, -0.64,\n",
       "       -0.64, -0.64, -0.64, -0.64, -0.64, -0.64, -0.64, -0.64, -0.64,\n",
       "       -0.64, -0.64, -0.64, -0.64, -0.64, -0.64, -0.64, -0.64, -0.64,\n",
       "       -0.64, -0.64, -0.64, -0.64, -0.64, -0.64, -0.64, -0.64, -0.64,\n",
       "       -0.64, -0.64, -0.64, -0.64, -0.64, -0.64, -0.64, -0.64, -0.64,\n",
       "       -0.64, -0.64, -0.64, -0.64, -0.64, -0.64, -0.64, -0.64, -0.64,\n",
       "       -0.64, -0.64, -0.64, -0.64, -0.64, -0.64, -0.64, -0.64, -0.64,\n",
       "       -0.64, -0.64, -0.64, -0.64, -0.64, -0.64, -0.64, -0.64, -0.64,\n",
       "       -0.64, -0.64, -0.64, -0.64, -0.64, -0.64, -0.64, -0.64, -0.64,\n",
       "       -0.64, -0.64, -0.64, -0.64, -0.64, -0.64, -0.64, -0.64, -0.64,\n",
       "       -0.64, -0.64, -0.64, -0.64, -0.64, -0.64, -0.64, -0.64, -0.64,\n",
       "       -0.64, -0.64, -0.64, -0.64, -0.64, -0.64, -0.64, -0.64, -0.64,\n",
       "       -0.64, -0.64, -0.64, -0.64, -0.64, -0.64, -0.64, -0.64, -0.64,\n",
       "       -0.64, -0.64, -0.64, -0.64, -0.64, -0.64, -0.64, -0.64, -0.64,\n",
       "       -0.64, -0.64, -0.64, -0.64, -0.64, -0.64, -0.64, -0.64, -0.64,\n",
       "       -0.64, -0.64, -0.64, -0.64, -0.64, -0.64, -0.64, -0.64, -0.64,\n",
       "       -0.64, -0.64, -0.64, -0.64, -0.64, -0.64, -0.64, -0.64, -0.64,\n",
       "       -0.64, -0.64, -0.64, -0.64, -0.64, -0.64, -0.64, -0.64, -0.64,\n",
       "       -0.64, -0.64, -0.64, -0.64, -0.64, -0.64,  1.55,  1.55,  1.55,\n",
       "        1.55,  1.55,  1.55,  1.55,  1.55,  1.55,  1.55,  1.55,  1.55,\n",
       "        1.55,  1.55,  1.55,  1.55,  1.55,  1.55,  1.55,  1.55,  1.55,\n",
       "        1.55,  1.55,  1.55,  1.55,  1.55,  1.55,  1.55,  1.55,  1.55,\n",
       "        1.55,  1.55,  1.55,  1.55,  1.55,  1.55,  1.55,  1.55,  1.55,\n",
       "        1.55,  1.55,  1.55,  1.55,  1.55,  1.55,  1.55,  1.55,  1.55,\n",
       "        1.55,  1.55,  1.55,  1.55,  1.55,  1.55,  1.55,  1.55,  1.55,\n",
       "        1.55,  1.55,  1.55,  1.55,  1.55,  1.55,  1.55,  1.55,  1.55,\n",
       "        1.55,  1.55,  1.55,  1.55,  1.55,  1.55,  1.55,  1.55,  1.55,\n",
       "        1.55,  1.55])"
      ]
     },
     "execution_count": 1443,
     "metadata": {},
     "output_type": "execute_result"
    }
   ],
   "source": [
    "X[:,0] "
   ]
  },
  {
   "cell_type": "code",
   "execution_count": 1402,
   "id": "903cdb05",
   "metadata": {},
   "outputs": [],
   "source": [
    "# le_tumorSize = preprocessing.LabelEncoder()\n",
    "# le_tumorSize.fit(['30-34','25-29','20-24','10-14','15-19','40-44','35-39','0-4','50-54','5-9','45-49'])\n",
    "# X[:,7] = le_tumorSize.transform(X[:,7]) "
   ]
  },
  {
   "cell_type": "code",
   "execution_count": 1403,
   "id": "654f6e88",
   "metadata": {
    "scrolled": true
   },
   "outputs": [],
   "source": [
    "le_age = preprocessing.LabelEncoder()\n",
    "le_age.fit(['40-49','50-59','60-69','70-79','20-29','30-39'])\n",
    "X[:,1] = le_age.transform(X[:,1]) "
   ]
  },
  {
   "cell_type": "code",
   "execution_count": 1404,
   "id": "44770159",
   "metadata": {},
   "outputs": [],
   "source": [
    "le_menopause = preprocessing.LabelEncoder()\n",
    "le_menopause.fit(['premeno','ge40','lt40'])\n",
    "X[:,2] = le_menopause.transform(X[:,2]) "
   ]
  },
  {
   "cell_type": "code",
   "execution_count": 1405,
   "id": "e830b12e",
   "metadata": {},
   "outputs": [],
   "source": [
    "le_irradiat = preprocessing.LabelEncoder()\n",
    "le_irradiat.fit(['yes','no'])\n",
    "X[:,3] = le_irradiat.transform(X[:,3]) "
   ]
  },
  {
   "cell_type": "code",
   "execution_count": 1406,
   "id": "59a01aac",
   "metadata": {
    "scrolled": true
   },
   "outputs": [],
   "source": [
    "le_breast_quad = preprocessing.LabelEncoder()\n",
    "le_breast_quad.fit(['central', 'left_low', 'left_up', 'right_low', 'right_up'])\n",
    "X[:,5] = le_breast_quad.transform(X[:,5]) "
   ]
  },
  {
   "cell_type": "code",
   "execution_count": 1407,
   "id": "09602504",
   "metadata": {},
   "outputs": [],
   "source": [
    "le_nodeCap = preprocessing.LabelEncoder()\n",
    "le_nodeCap.fit(['yes','no'])\n",
    "X[:,6] = le_nodeCap.transform(X[:,6]) "
   ]
  },
  {
   "cell_type": "code",
   "execution_count": 1408,
   "id": "3d7c9a1e",
   "metadata": {},
   "outputs": [],
   "source": [
    "le_deg = preprocessing.LabelEncoder()\n",
    "le_deg.fit([0,1,2,3])\n",
    "X[:,4] = le_deg.transform(X[:,4]) "
   ]
  },
  {
   "cell_type": "code",
   "execution_count": 1409,
   "id": "5b0d3fc3",
   "metadata": {},
   "outputs": [
    {
     "data": {
      "text/plain": [
       "array([[0, 1, 2, 0, 3, 1, 0],\n",
       "       [0, 2, 2, 0, 2, 4, 0],\n",
       "       [0, 2, 2, 0, 2, 1, 0],\n",
       "       [0, 4, 0, 0, 2, 2, 0],\n",
       "       [0, 2, 2, 0, 2, 3, 0]], dtype=object)"
      ]
     },
     "execution_count": 1409,
     "metadata": {},
     "output_type": "execute_result"
    }
   ],
   "source": [
    "X[0:5]"
   ]
  },
  {
   "cell_type": "markdown",
   "id": "c4fa16ac",
   "metadata": {},
   "source": [
    "### Response Matrix"
   ]
  },
  {
   "cell_type": "code",
   "execution_count": 1410,
   "id": "6090ebe4",
   "metadata": {
    "scrolled": false
   },
   "outputs": [
    {
     "data": {
      "text/plain": [
       "0     left\n",
       "1    right\n",
       "2     left\n",
       "3    right\n",
       "4    right\n",
       "Name: breast, dtype: category\n",
       "Categories (2, object): ['left', 'right']"
      ]
     },
     "execution_count": 1410,
     "metadata": {},
     "output_type": "execute_result"
    }
   ],
   "source": [
    "y = df[\"breast\"]\n",
    "y[0:5]"
   ]
  },
  {
   "cell_type": "markdown",
   "id": "842f2494",
   "metadata": {},
   "source": [
    "### Model 1: Decision Tree"
   ]
  },
  {
   "cell_type": "markdown",
   "id": "928b6c76",
   "metadata": {},
   "source": [
    "<hr>\n",
    "<div id=\"setting_up_tree\">\n",
    "    <h2>Setting up the Decision Tree</h2>\n",
    "    We will be using <b>train/test split</b> on our <b>decision tree</b>. Let's import <b>train_test_split</b> from <b>sklearn.cross_validation</b>.\n",
    "</div>"
   ]
  },
  {
   "cell_type": "code",
   "execution_count": 1411,
   "id": "333bfeff",
   "metadata": {},
   "outputs": [],
   "source": [
    "from sklearn.model_selection import train_test_split\n",
    "from sklearn.tree import DecisionTreeClassifier"
   ]
  },
  {
   "cell_type": "code",
   "execution_count": 1412,
   "id": "58ce0d18",
   "metadata": {},
   "outputs": [],
   "source": [
    "X_trainset, X_testset, y_trainset, y_testset = train_test_split(X, y, test_size=0.3, random_state=3)"
   ]
  },
  {
   "cell_type": "code",
   "execution_count": 1413,
   "id": "aa1c1cb4",
   "metadata": {},
   "outputs": [
    {
     "data": {
      "text/plain": [
       "DecisionTreeClassifier(criterion='entropy', max_depth=4)"
      ]
     },
     "execution_count": 1413,
     "metadata": {},
     "output_type": "execute_result"
    }
   ],
   "source": [
    "breastTress = DecisionTreeClassifier(criterion=\"entropy\", max_depth = 4)\n",
    "breastTress"
   ]
  },
  {
   "cell_type": "code",
   "execution_count": 1414,
   "id": "b436c04a",
   "metadata": {},
   "outputs": [
    {
     "data": {
      "text/plain": [
       "DecisionTreeClassifier(criterion='entropy', max_depth=4)"
      ]
     },
     "execution_count": 1414,
     "metadata": {},
     "output_type": "execute_result"
    }
   ],
   "source": [
    "breastTress.fit(X_trainset,y_trainset)"
   ]
  },
  {
   "cell_type": "markdown",
   "id": "6fab95e2",
   "metadata": {},
   "source": [
    "### Prediction"
   ]
  },
  {
   "cell_type": "code",
   "execution_count": 1415,
   "id": "a26d2702",
   "metadata": {},
   "outputs": [],
   "source": [
    "predTree = breastTress.predict(X_testset)"
   ]
  },
  {
   "cell_type": "code",
   "execution_count": 1416,
   "id": "3e74bc00",
   "metadata": {},
   "outputs": [
    {
     "name": "stdout",
     "output_type": "stream",
     "text": [
      "['right' 'left' 'right' 'left' 'right']\n"
     ]
    }
   ],
   "source": [
    "print (predTree [0:5])\n"
   ]
  },
  {
   "cell_type": "code",
   "execution_count": 1417,
   "id": "dcdf7744",
   "metadata": {},
   "outputs": [
    {
     "name": "stdout",
     "output_type": "stream",
     "text": [
      "282     left\n",
      "39      left\n",
      "149    right\n",
      "201     left\n",
      "106     left\n",
      "Name: breast, dtype: category\n",
      "Categories (2, object): ['left', 'right']\n"
     ]
    }
   ],
   "source": [
    "print (y_testset [0:5])"
   ]
  },
  {
   "cell_type": "code",
   "execution_count": 1418,
   "id": "7fa4daad",
   "metadata": {},
   "outputs": [
    {
     "name": "stdout",
     "output_type": "stream",
     "text": [
      "DecisionTrees's Accuracy:  0.6708860759493671\n"
     ]
    }
   ],
   "source": [
    "from sklearn import metrics\n",
    "import matplotlib.pyplot as plt\n",
    "print(\"DecisionTrees's Accuracy: \", metrics.accuracy_score(y_testset, predTree))"
   ]
  },
  {
   "cell_type": "markdown",
   "id": "1722e152",
   "metadata": {},
   "source": [
    "### Visulization of the Tree"
   ]
  },
  {
   "cell_type": "code",
   "execution_count": 1448,
   "id": "8aff470c",
   "metadata": {
    "scrolled": true
   },
   "outputs": [
    {
     "data": {
      "image/png": "[encoded data removed]",
      "text/plain": [
       "<Figure size 1200x1200 with 1 Axes>"
      ]
     },
     "metadata": {
      "needs_background": "light"
     },
     "output_type": "display_data"
    }
   ],
   "source": [
    "import sklearn.tree as tree\n",
    "from matplotlib.pyplot import figure\n",
    "\n",
    "figure(figsize=(15, 15), dpi=80)\n",
    "tree.plot_tree(breastTress)\n",
    "plt.show()"
   ]
  },
  {
   "cell_type": "markdown",
   "id": "35b8eb93",
   "metadata": {},
   "source": [
    "### Model 2: Logistic  Regression"
   ]
  },
  {
   "cell_type": "code",
   "execution_count": 1420,
   "id": "b802ccc4",
   "metadata": {},
   "outputs": [
    {
     "data": {
      "text/plain": [
       "array([[-0.64, -1.62,  0.91, -0.55,  1.28, -0.73, -0.51],\n",
       "       [-0.64, -0.63,  0.91, -0.55, -0.09,  1.99, -0.51],\n",
       "       [-0.64, -0.63,  0.91, -0.55, -0.09, -0.73, -0.51],\n",
       "       [-0.64,  1.35, -1.12, -0.55, -0.09,  0.18, -0.51],\n",
       "       [-0.64, -0.63,  0.91, -0.55, -0.09,  1.09, -0.51]])"
      ]
     },
     "execution_count": 1420,
     "metadata": {},
     "output_type": "execute_result"
    }
   ],
   "source": [
    "from sklearn import preprocessing\n",
    "X = preprocessing.StandardScaler().fit(X).transform(X)\n",
    "X[0:5]"
   ]
  },
  {
   "cell_type": "code",
   "execution_count": 1421,
   "id": "b5fba952",
   "metadata": {},
   "outputs": [
    {
     "name": "stdout",
     "output_type": "stream",
     "text": [
      "Train set: (210, 7) (210,)\n",
      "Test set: (53, 7) (53,)\n"
     ]
    }
   ],
   "source": [
    "from sklearn.model_selection import train_test_split\n",
    "X_train, X_test, y_train, y_test = train_test_split( X, y, test_size=0.2, random_state=4)\n",
    "print ('Train set:', X_train.shape,  y_train.shape)\n",
    "print ('Test set:', X_test.shape,  y_test.shape)"
   ]
  },
  {
   "cell_type": "markdown",
   "id": "dc0036b3",
   "metadata": {},
   "source": [
    "### Applying Logistic Regression Model with K Fold Cross Validation"
   ]
  },
  {
   "cell_type": "code",
   "execution_count": 1422,
   "id": "7dfda1ea",
   "metadata": {},
   "outputs": [
    {
     "name": "stdout",
     "output_type": "stream",
     "text": [
      "Avg accuracy: 0.5092162554426706\n"
     ]
    }
   ],
   "source": [
    "from sklearn.metrics import confusion_matrix\n",
    "\n",
    "from sklearn.model_selection import KFold \n",
    "from sklearn.linear_model import LogisticRegression\n",
    "from sklearn.metrics import accuracy_score\n",
    "\n",
    "\n",
    "k = 5\n",
    "kf = KFold(n_splits=k, random_state=None)\n",
    "model = LogisticRegression(solver= 'liblinear')\n",
    " \n",
    "result = cross_val_score(model , X, y, cv = kf)\n",
    " \n",
    "print(\"Avg accuracy: {}\".format(result.mean()))"
   ]
  },
  {
   "cell_type": "code",
   "execution_count": 1423,
   "id": "e052419e",
   "metadata": {},
   "outputs": [
    {
     "name": "stdout",
     "output_type": "stream",
     "text": [
      "Confusion matrix, without normalization\n",
      "[[14 13]\n",
      " [16 10]]\n"
     ]
    },
    {
     "data": {
      "image/png": "[encoded data removed]",
      "text/plain": [
       "<Figure size 432x288 with 2 Axes>"
      ]
     },
     "metadata": {
      "needs_background": "light"
     },
     "output_type": "display_data"
    }
   ],
   "source": [
    "# Compute confusion matrix\n",
    "cnf_matrix = confusion_matrix(y_test, yhat, labels=['left','right'])\n",
    "np.set_printoptions(precision=2)\n",
    "\n",
    "\n",
    "# Plot non-normalized confusion matrix\n",
    "plt.figure()\n",
    "plot_confusion_matrix(cnf_matrix, classes=['breast=left','breast=right'],normalize= False,  title='Confusion matrix')"
   ]
  },
  {
   "cell_type": "code",
   "execution_count": 1424,
   "id": "b2a556b2",
   "metadata": {
    "scrolled": true
   },
   "outputs": [
    {
     "name": "stdout",
     "output_type": "stream",
     "text": [
      "              precision    recall  f1-score   support\n",
      "\n",
      "        left       0.47      0.52      0.49        27\n",
      "       right       0.43      0.38      0.41        26\n",
      "\n",
      "    accuracy                           0.45        53\n",
      "   macro avg       0.45      0.45      0.45        53\n",
      "weighted avg       0.45      0.45      0.45        53\n",
      "\n"
     ]
    }
   ],
   "source": [
    "print (classification_report(y_test, yhat))"
   ]
  },
  {
   "cell_type": "markdown",
   "id": "f120ee61",
   "metadata": {},
   "source": [
    "*   **Precision** is a measure of the accuracy provided that a class label has been predicted. It is defined by: precision = TP / (TP + FP)\n",
    "\n",
    "*   **Recall** is the true positive rate. It is defined as: Recall =  TP / (TP + FN)"
   ]
  },
  {
   "cell_type": "markdown",
   "id": "22e75ba2",
   "metadata": {},
   "source": [
    "### Model 3: KNN"
   ]
  },
  {
   "cell_type": "code",
   "execution_count": 1425,
   "id": "0f6c1216",
   "metadata": {},
   "outputs": [
    {
     "name": "stdout",
     "output_type": "stream",
     "text": [
      "<class 'pandas.core.frame.DataFrame'>\n",
      "Int64Index: 263 entries, 0 to 285\n",
      "Data columns (total 10 columns):\n",
      " #   Column       Non-Null Count  Dtype   \n",
      "---  ------       --------------  -----   \n",
      " 0   class        263 non-null    category\n",
      " 1   age          263 non-null    object  \n",
      " 2   menopause    263 non-null    category\n",
      " 3   tumor-size   263 non-null    object  \n",
      " 4   inv-nodes    263 non-null    object  \n",
      " 5   node-caps    263 non-null    category\n",
      " 6   deg-malig    263 non-null    category\n",
      " 7   breast       263 non-null    category\n",
      " 8   breast-quad  263 non-null    category\n",
      " 9   irradiat     263 non-null    category\n",
      "dtypes: category(7), object(3)\n",
      "memory usage: 11.0+ KB\n"
     ]
    }
   ],
   "source": [
    "df.info()"
   ]
  },
  {
   "cell_type": "code",
   "execution_count": 1426,
   "id": "02f66bcb",
   "metadata": {},
   "outputs": [
    {
     "data": {
      "text/plain": [
       "array([[-0.64, -1.62,  0.91, -0.55,  1.28, -0.73, -0.51],\n",
       "       [-0.64, -0.63,  0.91, -0.55, -0.09,  1.99, -0.51],\n",
       "       [-0.64, -0.63,  0.91, -0.55, -0.09, -0.73, -0.51],\n",
       "       [-0.64,  1.35, -1.12, -0.55, -0.09,  0.18, -0.51],\n",
       "       [-0.64, -0.63,  0.91, -0.55, -0.09,  1.09, -0.51]])"
      ]
     },
     "execution_count": 1426,
     "metadata": {},
     "output_type": "execute_result"
    }
   ],
   "source": [
    "X = preprocessing.StandardScaler().fit(X).transform(X.astype(float))\n",
    "X[0:5]"
   ]
  },
  {
   "cell_type": "code",
   "execution_count": 1427,
   "id": "24b479d1",
   "metadata": {},
   "outputs": [
    {
     "name": "stdout",
     "output_type": "stream",
     "text": [
      "Train set: (210, 7) (210,)\n",
      "Test set: (53, 7) (53,)\n"
     ]
    }
   ],
   "source": [
    "from sklearn.model_selection import train_test_split\n",
    "X_train, X_test, y_train, y_test = train_test_split( X, y, test_size=0.2, random_state=4)\n",
    "print ('Train set:', X_train.shape,  y_train.shape)\n",
    "print ('Test set:', X_test.shape,  y_test.shape)"
   ]
  },
  {
   "cell_type": "code",
   "execution_count": 1428,
   "id": "e52b2206",
   "metadata": {},
   "outputs": [],
   "source": [
    "from sklearn.neighbors import KNeighborsClassifier"
   ]
  },
  {
   "cell_type": "markdown",
   "id": "37918472",
   "metadata": {},
   "source": [
    "### Applying K fold cross validation"
   ]
  },
  {
   "cell_type": "code",
   "execution_count": 1429,
   "id": "da1a0b66",
   "metadata": {},
   "outputs": [
    {
     "data": {
      "text/plain": [
       "KNeighborsClassifier(n_neighbors=4)"
      ]
     },
     "execution_count": 1429,
     "metadata": {},
     "output_type": "execute_result"
    }
   ],
   "source": [
    "k = 4\n",
    "#Train Model and Predict  \n",
    "neigh = KNeighborsClassifier(n_neighbors = k).fit(X_train,y_train)\n",
    "neigh"
   ]
  },
  {
   "cell_type": "code",
   "execution_count": 1430,
   "id": "dc5c30ca",
   "metadata": {},
   "outputs": [
    {
     "data": {
      "text/plain": [
       "array(['left', 'left', 'left', 'left', 'left'], dtype=object)"
      ]
     },
     "execution_count": 1430,
     "metadata": {},
     "output_type": "execute_result"
    }
   ],
   "source": [
    "yhat = neigh.predict(X_test)\n",
    "yhat[0:5]"
   ]
  },
  {
   "cell_type": "code",
   "execution_count": 1431,
   "id": "90939ed9",
   "metadata": {},
   "outputs": [
    {
     "data": {
      "text/plain": [
       "array([0.57, 0.57, 0.57, 0.51, 0.53, 0.55, 0.53, 0.47, 0.45])"
      ]
     },
     "execution_count": 1431,
     "metadata": {},
     "output_type": "execute_result"
    }
   ],
   "source": [
    "Ks = 10\n",
    "mean_acc = np.zeros((Ks-1))\n",
    "std_acc = np.zeros((Ks-1))\n",
    "\n",
    "for n in range(1,Ks):\n",
    "    \n",
    "    #Train Model and Predict  \n",
    "    neigh = KNeighborsClassifier(n_neighbors = n).fit(X_train,y_train)\n",
    "    yhat=neigh.predict(X_test)\n",
    "    mean_acc[n-1] = metrics.accuracy_score(y_test, yhat)\n",
    "\n",
    "    \n",
    "    std_acc[n-1]=np.std(yhat==y_test)/np.sqrt(yhat.shape[0])\n",
    "\n",
    "mean_acc"
   ]
  },
  {
   "cell_type": "code",
   "execution_count": 1432,
   "id": "e8080a81",
   "metadata": {},
   "outputs": [
    {
     "data": {
      "image/png": "[encoded data removed]",
      "text/plain": [
       "<Figure size 432x288 with 1 Axes>"
      ]
     },
     "metadata": {
      "needs_background": "light"
     },
     "output_type": "display_data"
    }
   ],
   "source": [
    "plt.plot(range(1,Ks),mean_acc,'g')\n",
    "plt.fill_between(range(1,Ks),mean_acc - 1 * std_acc,mean_acc + 1 * std_acc, alpha=0.10)\n",
    "plt.fill_between(range(1,Ks),mean_acc - 3 * std_acc,mean_acc + 3 * std_acc, alpha=0.10,color=\"green\")\n",
    "plt.legend(('Accuracy ', '+/- 1xstd','+/- 3xstd'))\n",
    "plt.ylabel('Accuracy ')\n",
    "plt.xlabel('Number of Neighbors (K)')\n",
    "plt.tight_layout()\n",
    "plt.show()"
   ]
  },
  {
   "cell_type": "code",
   "execution_count": 1433,
   "id": "2af235be",
   "metadata": {},
   "outputs": [
    {
     "name": "stdout",
     "output_type": "stream",
     "text": [
      "The best accuracy was with 0.5660377358490566 with k= 1\n"
     ]
    }
   ],
   "source": [
    "print( \"The best accuracy was with\", mean_acc.max(), \"with k=\", mean_acc.argmax()+1) "
   ]
  }
 ],
 "metadata": {
  "kernelspec": {
   "display_name": "Python 3 (ipykernel)",
   "language": "python",
   "name": "python3"
  },
  "language_info": {
   "codemirror_mode": {
    "name": "ipython",
    "version": 3
   },
   "file_extension": ".py",
   "mimetype": "text/x-python",
   "name": "python",
   "nbconvert_exporter": "python",
   "pygments_lexer": "ipython3",
   "version": "3.9.12"
  }
 },
 "nbformat": 4,
 "nbformat_minor": 5
}
